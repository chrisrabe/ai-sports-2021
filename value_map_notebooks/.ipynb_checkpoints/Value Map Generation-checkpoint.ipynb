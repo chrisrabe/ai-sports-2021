{
 "cells": [
  {
   "cell_type": "code",
   "execution_count": 3,
   "id": "e9edbdf4",
   "metadata": {},
   "outputs": [],
   "source": [
    "import numpy as np\n",
    "import pandas as pd # pandas is not required in codebase (only useful for development/visusalisation)\n",
    "import matplotlib.pyplot as plt # visualisation\n",
    "import seaborn as sns # visualisation"
   ]
  },
  {
   "cell_type": "markdown",
   "id": "bd2a9308",
   "metadata": {},
   "source": [
    "## Functions"
   ]
  },
  {
   "cell_type": "code",
   "execution_count": 4,
   "id": "eadff897",
   "metadata": {},
   "outputs": [],
   "source": [
    "# Note: in codebase, use get_world_dimension(world)\n",
    "# Setup value map\n",
    "def setup_value_map(world_dim=(9,9),\n",
    "                    pad_dim=(8,8),\n",
    "                    OUTER_MAP_VALUES=((-100, -100),(-100, -100))):\n",
    "    map_dim = np.add(world_dim,np.multiply(pad_dim,2))\n",
    "\n",
    "    # Initialise value map\n",
    "    world_map = np.zeros(world_dim)\n",
    "    value_map = np.pad(world_map, (pad_dim,pad_dim), 'constant', constant_values=OUTER_MAP_VALUES)\n",
    "    reward_value_map = value_map\n",
    "    rval_offset = pad_dim[0]\n",
    "\n",
    "    # Initialise base map for reward mask matrix creation\n",
    "    base_map = np.zeros(map_dim)\n",
    "    \n",
    "    return reward_value_map, rval_offset\n",
    "    \n",
    "# Update value map based on reward entities input\n",
    "def update_value_map(rval, value_map, rval_offset, max_reward_spread=3):\n",
    "    reward = rval[2]\n",
    "    reward_discount = reward/abs(reward)\n",
    "    reward_spread=0\n",
    "    \n",
    "    # Max reward spread shall be no greater than the dimension of the map\n",
    "    # (mask matrices of +1 or -1 are applied in additive layers that correspond to the magnitude of the reward value)\n",
    "    max_reward_spread = min(max_reward_spread, 9-1)\n",
    "    \n",
    "    if reward > 0:\n",
    "        # positive reward value\n",
    "        for i, value in enumerate(range(0, reward, 1)):\n",
    "            if i <= max_reward_spread:\n",
    "                reward_spread = i\n",
    "            xstart= rval[1] + rval_offset - reward_spread\n",
    "            xend = rval[1] + rval_offset + 1 + reward_spread\n",
    "            ystart = rval[0] + rval_offset - reward_spread\n",
    "            yend = rval[0] + rval_offset + 1 + reward_spread\n",
    "\n",
    "            value_map[xstart:xend,ystart:yend] = value_map[xstart:xend,ystart:yend] + reward_discount\n",
    "            \n",
    "    elif reward < 0:\n",
    "        # negative reward value\n",
    "        for i, value in enumerate(range(0, reward, -1)):\n",
    "            if i <= max_reward_spread:\n",
    "                reward_spread = i \n",
    "            xstart= rval[1] + rval_offset - reward_spread\n",
    "            xend = rval[1] + rval_offset + 1 + reward_spread\n",
    "            ystart = rval[0] + rval_offset - reward_spread\n",
    "            yend = rval[0] + rval_offset + 1 + reward_spread\n",
    "\n",
    "            value_map[xstart:xend,ystart:yend] = value_map[xstart:xend,ystart:yend] + reward_discount\n",
    "            \n",
    "    else:\n",
    "        # Reward assigned is 0.\n",
    "        pass"
   ]
  },
  {
   "cell_type": "code",
   "execution_count": null,
   "id": "0189baeb",
   "metadata": {},
   "outputs": [],
   "source": []
  },
  {
   "cell_type": "markdown",
   "id": "a32bfc86",
   "metadata": {},
   "source": [
    "## Inputs"
   ]
  },
  {
   "cell_type": "code",
   "execution_count": 5,
   "id": "2d8641f8",
   "metadata": {},
   "outputs": [
    {
     "data": {
      "text/plain": [
       "{'bomb': [5, 6, -6]}"
      ]
     },
     "execution_count": 5,
     "metadata": {},
     "output_type": "execute_result"
    }
   ],
   "source": [
    "# Reward entities inputs (x, y, reward value)\n",
    "reward_entities = {\n",
    "    'bomb' : [5,6,-6],\n",
    "#     'ammo' : [2,2,6],\n",
    "#     'ammo' : [3,8,6],\n",
    "}\n",
    "\n",
    "reward_entities\n"
   ]
  },
  {
   "cell_type": "markdown",
   "id": "76d33d17",
   "metadata": {},
   "source": [
    "## Updating the value map"
   ]
  },
  {
   "cell_type": "code",
   "execution_count": 6,
   "id": "dcf0db71",
   "metadata": {},
   "outputs": [],
   "source": [
    "# Initialise value map\n",
    "reward_value_map, rval_offset = setup_value_map()\n",
    "\n",
    "# Updates value map based on reward entities input\n",
    "for rval in reward_entities.values():\n",
    "    update_value_map(rval, reward_value_map, rval_offset)"
   ]
  },
  {
   "cell_type": "markdown",
   "id": "2093606d",
   "metadata": {},
   "source": [
    "## Visualising the value map"
   ]
  },
  {
   "cell_type": "code",
   "execution_count": 7,
   "id": "177d9a83",
   "metadata": {},
   "outputs": [
    {
     "data": {
      "image/png": "[encoded data removed]",
      "text/plain": [
       "<Figure size 864x576 with 2 Axes>"
      ]
     },
     "metadata": {
      "needs_background": "light"
     },
     "output_type": "display_data"
    }
   ],
   "source": [
    "# Value map visualisation\n",
    "df_map = pd.DataFrame(data=reward_value_map)\n",
    "df_map_visual = df_map.iloc[7:18,7:18]\n",
    "fig, ax = plt.subplots(figsize=(12,8))\n",
    "ax = sns.heatmap(reward_value_map[8:17,8:17], cmap='flare_r')"
   ]
  },
  {
   "cell_type": "code",
   "execution_count": 116,
   "id": "cdb97e1a",
   "metadata": {},
   "outputs": [],
   "source": [
    "# reward = rval[2]\n",
    "# rdiscount = reward/abs(reward)\n",
    "# for i, value in enumerate(range(0, reward, -1)):\n",
    "#     xstart= rval[1] + rval_offset - i\n",
    "#     xend = rval[1] + rval_offset + 1 + i\n",
    "#     ystart = rval[0] + rval_offset - i\n",
    "#     yend = rval[0] + rval_offset + 1 + i\n",
    "    \n",
    "#     reward_value_map[xstart:xend,ystart:yend] = reward_value_map[xstart:xend,ystart:yend] + rdiscount"
   ]
  },
  {
   "cell_type": "code",
   "execution_count": 117,
   "id": "aef95568",
   "metadata": {},
   "outputs": [],
   "source": [
    "# # Update value map based on reward entities input\n",
    "# def update_value_map(rval, value_map, world_dim, OUTER_MAP_VALUES=((-100, -100),(-100, -100))):\n",
    "#     '''\n",
    "#     Updates the reward value map with mask matrix application, based on reward entity.\n",
    "#     Returns a numpy array representing the updated reward value map.\n",
    "#     '''\n",
    "#     # Add map padding\n",
    "#     pad_dim = (world_dim[0]-1,world_dim[1]-1)\n",
    "#     value_map = np.pad(value_map, (pad_dim,pad_dim), 'constant', constant_values=OUTER_MAP_VALUES)\n",
    "#     rval_offset = pad_dim[0]-1\n",
    "\n",
    "#     reward = rval[2]\n",
    "#     reward_discount = reward/abs(reward)\n",
    "#     rval_offset = 8 # padding offset\n",
    "    \n",
    "#     if reward > 0:\n",
    "#         # positive reward value\n",
    "#         for i, value in enumerate(range(0, reward, 1)):\n",
    "#             xstart= rval[1] + rval_offset - i\n",
    "#             xend = rval[1] + rval_offset + 1 + i\n",
    "#             ystart = rval[0] + rval_offset - i\n",
    "#             yend = rval[0] + rval_offset + 1 + i\n",
    "\n",
    "#             # Updates reward values in the map matrix.\n",
    "#             value_map[xstart:xend,ystart:yend] = value_map[xstart:xend,ystart:yend] + reward_discount\n",
    "            \n",
    "#     elif reward < 0:\n",
    "#         # negative reward value\n",
    "#         for i, value in enumerate(range(0, reward, -1)):\n",
    "#             xstart= rval[1] + rval_offset - i\n",
    "#             xend = rval[1] + rval_offset + 1 + i\n",
    "#             ystart = rval[0] + rval_offset - i\n",
    "#             yend = rval[0] + rval_offset + 1 + i\n",
    "\n",
    "#             # Updates reward values in the map matrix.\n",
    "#             value_map[xstart:xend,ystart:yend] = value_map[xstart:xend,ystart:yend] + reward_discount\n",
    "#     else:\n",
    "#         # Reward assigned is 0.\n",
    "#         pass\n",
    "\n",
    "#     # Remove map padding\n",
    "#     value_map = value_map[world_dim[0]-1:world_dim[0]+pad_dim[0],world_dim[0]-1:world_dim[0]+pad_dim[0]]\n",
    "\n",
    "#     return value_map\n",
    "\n",
    "# def get_value_map(world, walls, game_objects, reward_map, pinch_points=None, use_default=True):\n",
    "#     \"\"\"\n",
    "#     Returns a numpy array map representing the values\n",
    "\n",
    "#     walls must be an array of (x,y) tuples\n",
    "\n",
    "#     game objects must be an array of objects with the following schema:\n",
    "#     {\n",
    "#        loc: (x, y)\n",
    "#        type: string\n",
    "#     }\n",
    "\n",
    "#     reward map must be a dictionary with the following schema\n",
    "#     {\n",
    "#        [ENTITY_TYPE]: number\n",
    "#     }\n",
    "\n",
    "#     pinch points must be an array of (x,y) tuples or is None (articulation points)\n",
    "\n",
    "#     use_default is a boolean to represent whether we should use the default reward map\n",
    "#     \"\"\"\n",
    "\n",
    "#     # TODO are there numpy helper functions to help with these logic?\n",
    "\n",
    "#     # create 2D matrix filled with zeroes\n",
    "#     value_map = np.zeros(get_world_dimension(world))\n",
    "\n",
    "#     # replace all walls with -10\n",
    "#     for wall in walls:\n",
    "#         x, y = wall\n",
    "#         value_map[y, x] = DEFAULT_REWARDS['wall']\n",
    "\n",
    "#     # get score mask for all non-wall objects\n",
    "#     for item in game_objects:\n",
    "#         if use_default:\n",
    "#             if item['type'] in reward_map:\n",
    "#                 reward = reward_map[item['type']]\n",
    "#             else:\n",
    "#                 reward = DEFAULT_REWARDS[item['type']]\n",
    "#         else:\n",
    "#             if item['type'] not in reward_map:\n",
    "#                 continue\n",
    "#             else:\n",
    "#                 reward = reward_map[item['type']]\n",
    "\n",
    "#         reward_entity = [item['loc'][0], item['loc'][1], reward]\n",
    "#         value_map = update_value_map(reward_entity, value_map)\n",
    "\n",
    "#     # re-evaluate for pinch points\n",
    "#     if pinch_points is not None:\n",
    "#         for tile in pinch_points:\n",
    "#             pinch_reward = DEFAULT_REWARDS['pinch']\n",
    "#             if 'pinch' in reward_map:\n",
    "#                 pinch_reward = reward_map['pinch']\n",
    "\n",
    "#             reward_entity = [tile['loc'][0], tile['loc'][1], pinch_reward]\n",
    "#             value_map = update_value_map(reward_entity, value_map)\n",
    "\n",
    "#     return value_map"
   ]
  },
  {
   "cell_type": "code",
   "execution_count": null,
   "id": "b7222c5c",
   "metadata": {},
   "outputs": [],
   "source": []
  }
 ],
 "metadata": {
  "kernelspec": {
   "display_name": "Python 3",
   "language": "python",
   "name": "python3"
  },
  "language_info": {
   "codemirror_mode": {
    "name": "ipython",
    "version": 3
   },
   "file_extension": ".py",
   "mimetype": "text/x-python",
   "name": "python",
   "nbconvert_exporter": "python",
   "pygments_lexer": "ipython3",
   "version": "3.8.2"
  }
 },
 "nbformat": 4,
 "nbformat_minor": 5
}
