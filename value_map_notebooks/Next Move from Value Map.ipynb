{
 "cells": [
  {
   "cell_type": "markdown",
   "metadata": {},
   "source": [
    "# Welcome to Jupyter!"
   ]
  },
  {
   "cell_type": "markdown",
   "metadata": {},
   "source": [
    "This repo contains an introduction to [Jupyter](https://jupyter.org) and [IPython](https://ipython.org).\n",
    "\n",
    "Outline of some basics:\n",
    "\n",
    "* [Notebook Basics](../examples/Notebook/Notebook%20Basics.ipynb)\n",
    "* [IPython - beyond plain python](../examples/IPython%20Kernel/Beyond%20Plain%20Python.ipynb)\n",
    "* [Markdown Cells](../examples/Notebook/Working%20With%20Markdown%20Cells.ipynb)\n",
    "* [Rich Display System](../examples/IPython%20Kernel/Rich%20Output.ipynb)\n",
    "* [Custom Display logic](../examples/IPython%20Kernel/Custom%20Display%20Logic.ipynb)\n",
    "* [Running a Secure Public Notebook Server](../examples/Notebook/Running%20the%20Notebook%20Server.ipynb#Securing-the-notebook-server)\n",
    "* [How Jupyter works](../examples/Notebook/Multiple%20Languages%2C%20Frontends.ipynb) to run code in different languages."
   ]
  },
  {
   "cell_type": "markdown",
   "metadata": {},
   "source": [
    "You can also get this tutorial and run it on your laptop:\n",
    "\n",
    "    git clone https://github.com/ipython/ipython-in-depth\n",
    "\n",
    "Install IPython and Jupyter:\n",
    "\n",
    "with [conda](https://www.anaconda.com/download):\n",
    "\n",
    "    conda install ipython jupyter\n",
    "\n",
    "with pip:\n",
    "\n",
    "    # first, always upgrade pip!\n",
    "    pip install --upgrade pip\n",
    "    pip install --upgrade ipython jupyter\n",
    "\n",
    "Start the notebook in the tutorial directory:\n",
    "\n",
    "    cd ipython-in-depth\n",
    "    jupyter notebook"
   ]
  },
  {
   "cell_type": "code",
   "execution_count": 6,
   "metadata": {},
   "outputs": [
    {
     "name": "stdout",
     "output_type": "stream",
     "text": [
      "Requirement already satisfied: numpy in /srv/conda/envs/notebook/lib/python3.6/site-packages (1.19.5)\n",
      "Note: you may need to restart the kernel to use updated packages.\n"
     ]
    }
   ],
   "source": [
    "pip install numpy"
   ]
  },
  {
   "cell_type": "code",
   "execution_count": 1,
   "metadata": {},
   "outputs": [],
   "source": [
    "import numpy as np"
   ]
  },
  {
   "cell_type": "code",
   "execution_count": 2,
   "metadata": {},
   "outputs": [],
   "source": [
    "\n",
    "# Update value map based on reward entities input\n",
    "def update_value_map(rval, value_map, world_dim, max_reward_spread=0, OUTER_MAP_VALUES=((-100, -100),(-100, -100))):\n",
    "    '''\n",
    "    Updates the reward value map with mask matrix application, based on reward entity.\n",
    "    Returns a numpy array representing the updated reward value map.\n",
    "    '''\n",
    "    # Add map padding\n",
    "    pad_dim = (world_dim[0]-1,world_dim[1]-1)\n",
    "    value_map = np.pad(value_map, (pad_dim,pad_dim), 'constant', constant_values=OUTER_MAP_VALUES)\n",
    "    rval_offset = pad_dim[0]\n",
    "\n",
    "    reward = rval[2]\n",
    "    reward_discount = reward/abs(reward)\n",
    "    reward_spread=0\n",
    "    \n",
    "    # Max reward spread shall not exceed the dimension of the map\n",
    "    # (mask matrices of +1 or -1 are applied in additive layers that correspond to the magnitude of the reward value)\n",
    "    max_reward_spread = min(max_reward_spread, world_dim[0]-1)\n",
    "    \n",
    "    if reward > 0:\n",
    "        # positive reward value\n",
    "        for i, value in enumerate(range(0, reward, 1)):\n",
    "            if i <= max_reward_spread:\n",
    "                reward_spread = i\n",
    "            xstart= rval[1] + rval_offset - reward_spread\n",
    "            xend = rval[1] + rval_offset + 1 + reward_spread\n",
    "            ystart = rval[0] + rval_offset - reward_spread\n",
    "            yend = rval[0] + rval_offset + 1 + reward_spread\n",
    "\n",
    "            # Updates reward values in the map matrix.\n",
    "            value_map[xstart:xend,ystart:yend] = value_map[xstart:xend,ystart:yend] + reward_discount\n",
    "            \n",
    "    elif reward < 0:\n",
    "        # negative reward value\n",
    "        for i, value in enumerate(range(0, reward, -1)):\n",
    "            if i <= max_reward_spread:\n",
    "                reward_spread = i\n",
    "            xstart= rval[1] + rval_offset - reward_spread\n",
    "            xend = rval[1] + rval_offset + 1 + reward_spread\n",
    "            ystart = rval[0] + rval_offset + 1 - reward_spread\n",
    "            yend = rval[0] + rval_offset + 1 + reward_spread\n",
    "\n",
    "            # Updates reward values in the map matrix.\n",
    "            value_map[xstart:xend,ystart:yend] = value_map[xstart:xend,ystart:yend] + reward_discount\n",
    "    else:\n",
    "        # Reward assigned is 0.\n",
    "        pass\n",
    "\n",
    "    # Remove map padding\n",
    "    value_map = value_map[world_dim[0]-1:world_dim[0]+pad_dim[0],world_dim[0]-1:world_dim[0]+pad_dim[0]]\n",
    "\n",
    "    return value_map"
   ]
  },
  {
   "cell_type": "code",
   "execution_count": 3,
   "metadata": {},
   "outputs": [],
   "source": [
    "def is_in_bounds(tile, world_width, world_height) -> bool:\n",
    "    \"\"\"\n",
    "    Checks whether the tile is within the world boundaries\n",
    "    \"\"\"\n",
    "    return (0 <= tile[0] < world_width) and (0 <= tile[1] < world_height)\n"
   ]
  },
  {
   "cell_type": "code",
   "execution_count": 4,
   "metadata": {},
   "outputs": [],
   "source": [
    "def get_surrounding_tiles(location, world_width, world_height):\n",
    "    \"\"\"Given a tile location as an (x,y) tuple, this function will return the surrounding tiles up, down, left and to\n",
    "    the right as a list (i.e. [(x1,y1), (x2,y2),...]) as long as they do not cross the edge of the map \"\"\"\n",
    "    x = location[0]\n",
    "    y = location[1]\n",
    "\n",
    "    # find all the surrounding tiles relative to us\n",
    "    # location[0] = col index; location[1] = row index\n",
    "    tile_up = (x, y - 1)\n",
    "    tile_down = (x, y + 1)\n",
    "    tile_left = (x - 1, y)\n",
    "    tile_right = (x + 1, y)\n",
    "\n",
    "    # combine these int a list\n",
    "    all_surrounding_tiles = [tile_up, tile_down, tile_right, tile_left]\n",
    "\n",
    "    # get ones that are within bounds\n",
    "    valid_surrounding_tiles = []\n",
    "\n",
    "    for tile in all_surrounding_tiles:\n",
    "        if is_in_bounds(tile, world_width, world_height):\n",
    "            valid_surrounding_tiles.append(tile)\n",
    "\n",
    "    return valid_surrounding_tiles"
   ]
  },
  {
   "cell_type": "code",
   "execution_count": 5,
   "metadata": {},
   "outputs": [],
   "source": [
    "def move_to_tile(location, tile):\n",
    "    \"\"\"\n",
    "    Determines the action based on the tile. The other tile must be adjacent to the location tile\n",
    "    \"\"\"\n",
    "    diff = tuple(x - y for x, y in zip(location, tile))\n",
    "\n",
    "    if diff == (0, 1):\n",
    "        return \"down\"\n",
    "    elif diff == (1, 0):\n",
    "        return \"left\"\n",
    "    elif diff == (0, -1):\n",
    "        return \"up\"\n",
    "    elif diff == (-1, 0):\n",
    "        return \"right\"\n",
    "    else:\n",
    "        return \"none\""
   ]
  },
  {
   "cell_type": "code",
   "execution_count": 6,
   "metadata": {},
   "outputs": [],
   "source": [
    "def get_move_from_value_map(cur_loc, value_map, world):\n",
    "    world_width, world_height = world\n",
    "    neighbours = get_surrounding_tiles(cur_loc, world_width, world_height)\n",
    "    max_val = -1\n",
    "    new_loc = cur_loc\n",
    "    for tile in neighbours:\n",
    "        x, y = tile\n",
    "        tile_val = value_map[y, x]\n",
    "#         print(tile, tile_val)\n",
    "        if tile_val > max_val:\n",
    "            max_val = tile_val\n",
    "            new_loc = tile\n",
    "            print('current location: ',cur_loc)\n",
    "            print('new location: ', new_loc)\n",
    "    return move_to_tile(cur_loc, new_loc)"
   ]
  },
  {
   "cell_type": "code",
   "execution_count": 7,
   "metadata": {},
   "outputs": [],
   "source": [
    "def get_tile_scores_from_mask(tiles, mask):\n",
    "    tile_scores = np.zeros(len(tiles))\n",
    "    for i in range(len(tiles)):\n",
    "        x, y = tiles[i]\n",
    "        tile_scores[i] = mask[y, x]\n",
    "    return tile_scores"
   ]
  },
  {
   "cell_type": "code",
   "execution_count": 8,
   "metadata": {},
   "outputs": [],
   "source": [
    "def get_reward_mask(item, reward, world, is_tuple=False):\n",
    "    \"\"\"\n",
    "    Returns reward mask\n",
    "    \"\"\"\n",
    "    world_width, world_height = world\n",
    "    mask = np.zeros((world_width, world_height))\n",
    "\n",
    "    abs_reward = abs(reward)\n",
    "\n",
    "    # modified iterative floodfill algorithm\n",
    "    to_fill = set()\n",
    "    if is_tuple:\n",
    "        to_fill.add(item)\n",
    "    else:\n",
    "        to_fill.add(item['loc'])\n",
    "    while len(to_fill) != 0:\n",
    "        cur_tile = to_fill.pop()\n",
    "        neighbours = get_surrounding_tiles(cur_tile, world_width, world_height)\n",
    "        tile_scores = get_tile_scores_from_mask(neighbours, mask)\n",
    "        max_reward = np.amax(tile_scores)\n",
    "        cur_tile_x, cur_tile_y = cur_tile\n",
    "        if max_reward == 0:  # evaluating starting point\n",
    "            mask[cur_tile_y, cur_tile_x] = abs_reward\n",
    "        else:\n",
    "            mask[cur_tile_y, cur_tile_x] = max_reward - 1\n",
    "        if max_reward != 1:\n",
    "            for tile in neighbours:\n",
    "                x, y = tile\n",
    "                if mask[y, x] == 0:  # not visited\n",
    "                    to_fill.add(tile)\n",
    "\n",
    "    # propagation decreases or increases the value of reward by one until it reaches 0\n",
    "    # if the reward is a negative number, it will add 1 for each level until reaches 0\n",
    "    # the opposite is applied to positive numbers\n",
    "    return mask * -1 if reward < 0 else mask"
   ]
  },
  {
   "cell_type": "code",
   "execution_count": null,
   "metadata": {},
   "outputs": [],
   "source": []
  },
  {
   "cell_type": "code",
   "execution_count": 9,
   "metadata": {},
   "outputs": [],
   "source": [
    "world_dim = (9,9)\n",
    "max_reward_spread=world_dim[0]-1\n",
    "will_map=np.zeros(world_dim)\n",
    "chris_map=np.zeros(world_dim)\n",
    "world_map = np.zeros(world_dim)\n",
    "entities = [\n",
    "    [5,5,5],\n",
    "    [3,3,2]\n",
    "]\n",
    "\n",
    "for entity in entities:\n",
    "    entity_x, entity_y, reward = entity\n",
    "    world_map[entity_y, entity_x] = reward\n",
    "    reward_mask = get_reward_mask((entity_x, entity_y), reward, world_dim, True)\n",
    "    will_map = update_value_map(entity, will_map, world_dim, max_reward_spread)\n",
    "    chris_map = np.add(chris_map, reward_mask)\n",
    "    "
   ]
  },
  {
   "cell_type": "code",
   "execution_count": 10,
   "metadata": {},
   "outputs": [
    {
     "data": {
      "text/plain": [
       "array([[0., 0., 0., 0., 0., 0., 0., 0., 0.],\n",
       "       [0., 1., 1., 1., 1., 1., 1., 1., 1.],\n",
       "       [0., 1., 3., 3., 3., 2., 2., 2., 2.],\n",
       "       [0., 1., 3., 5., 4., 3., 3., 3., 2.],\n",
       "       [0., 1., 3., 4., 5., 4., 4., 3., 2.],\n",
       "       [0., 1., 2., 3., 4., 5., 4., 3., 2.],\n",
       "       [0., 1., 2., 3., 4., 4., 4., 3., 2.],\n",
       "       [0., 1., 2., 3., 3., 3., 3., 3., 2.],\n",
       "       [0., 1., 2., 2., 2., 2., 2., 2., 2.]])"
      ]
     },
     "execution_count": 10,
     "metadata": {},
     "output_type": "execute_result"
    }
   ],
   "source": [
    "will_map"
   ]
  },
  {
   "cell_type": "code",
   "execution_count": 11,
   "metadata": {},
   "outputs": [
    {
     "name": "stdout",
     "output_type": "stream",
     "text": [
      "Player is at (3, 5)\n"
     ]
    }
   ],
   "source": [
    "player_loc = (3,5)\n",
    "print(\"Player is at\", player_loc)"
   ]
  },
  {
   "cell_type": "code",
   "execution_count": 12,
   "metadata": {},
   "outputs": [
    {
     "name": "stdout",
     "output_type": "stream",
     "text": [
      "current location:  (3, 5)\n",
      "new location:  (3, 4)\n"
     ]
    },
    {
     "data": {
      "text/plain": [
       "'down'"
      ]
     },
     "execution_count": 12,
     "metadata": {},
     "output_type": "execute_result"
    }
   ],
   "source": [
    "get_move_from_value_map(player_loc, will_map, world_dim)\n",
    "# printing out surrounding tiles and their value states"
   ]
  },
  {
   "cell_type": "code",
   "execution_count": null,
   "metadata": {},
   "outputs": [],
   "source": []
  },
  {
   "cell_type": "code",
   "execution_count": null,
   "metadata": {},
   "outputs": [],
   "source": []
  },
  {
   "cell_type": "code",
   "execution_count": 40,
   "metadata": {},
   "outputs": [
    {
     "name": "stdout",
     "output_type": "stream",
     "text": [
      "Entities\n",
      "[[5, 5, 5], [3, 3, 2], [3, 7, 7], [4, 8, -2], [2, 2, -5], [1, 1, 3], [8, 7, 9]]\n",
      "New reward map\n",
      "[[ 1.  1.  1.  0. -1.  0.  1.  2.  2.]\n",
      " [ 2.  4.  3.  2.  2.  3.  4.  5.  5.]\n",
      " [ 3.  4.  6.  6.  6.  6.  7.  8.  8.]\n",
      " [ 3.  4.  6.  9.  9.  9. 10. 11.  9.]\n",
      " [ 3.  4.  7.  9. 11. 12. 13. 12. 10.]\n",
      " [ 3.  6.  8. 10. 12. 14. 14. 13. 11.]\n",
      " [ 4.  7. 10. 12. 14. 14. 14. 14. 12.]\n",
      " [ 5.  8. 11. 14. 13. 13. 14. 14. 13.]\n",
      " [ 5.  8. 11. 12. 12. 12. 13. 13. 12.]]\n",
      "Old reward map\n",
      "[[ 0.  0. -2. -2. -1.  0.  0.  1.  2.]\n",
      " [ 0.  0. -2. -1. -2.  0.  1.  2.  3.]\n",
      " [-2. -2. -3. -1. -1.  1.  2.  3.  4.]\n",
      " [-2. -1. -1.  3.  4.  5.  5.  5.  5.]\n",
      " [ 0.  0.  1.  6.  7.  9.  8.  7.  7.]\n",
      " [ 2.  3.  5.  9. 11. 12. 11. 10.  9.]\n",
      " [ 3.  5.  7. 11. 12. 13. 12. 11. 10.]\n",
      " [ 5.  7.  9. 12. 12. 14. 13. 12. 11.]\n",
      " [ 3.  5.  7.  8.  8. 10. 10.  9.  9.]]\n",
      "Player is at (3, 5)\n",
      "current location:  (3, 5)\n",
      "new location:  (3, 4)\n",
      "current location:  (3, 5)\n",
      "new location:  (3, 6)\n",
      "current location:  (3, 5)\n",
      "new location:  (3, 4)\n",
      "current location:  (3, 5)\n",
      "new location:  (3, 6)\n",
      "Next move using new map: up\n",
      "Next move old map: up\n",
      "[[ 0.  0.  0.  0.  0.  0.  0.  0.  0.]\n",
      " [ 0.  3.  0.  0.  0.  0.  0.  0.  0.]\n",
      " [ 0.  0. -5.  0.  0.  0.  0.  0.  0.]\n",
      " [ 0.  0.  0.  2.  0.  0.  0.  0.  0.]\n",
      " [ 0.  0.  0.  0.  0.  0.  0.  0.  0.]\n",
      " [ 0.  0.  0. -2.  0.  5.  0.  0.  0.]\n",
      " [ 0.  0.  0.  0.  0.  0.  0.  0.  0.]\n",
      " [ 0.  0.  0.  7.  0.  0.  0.  0.  9.]\n",
      " [ 0.  0.  0.  0. -2.  0.  0.  0.  0.]]\n"
     ]
    }
   ],
   "source": [
    "world_dim = (9,9)\n",
    "max_reward_spread=world_dim[0]-1\n",
    "will_map=np.zeros(world_dim)\n",
    "chris_map=np.zeros(world_dim)\n",
    "world_map = np.zeros(world_dim)\n",
    "entities = [\n",
    "    [5,5,5],\n",
    "    [3,3,2],\n",
    "    [3,7,7],\n",
    "    [4,8,-2],\n",
    "    [2,2,-5],\n",
    "    [1,1,3],\n",
    "    [8,7,9]\n",
    "]\n",
    "\n",
    "for entity in entities:\n",
    "    entity_x, entity_y, reward = entity\n",
    "    world_map[entity_y, entity_x] = reward\n",
    "    reward_mask = get_reward_mask((entity_x, entity_y), reward, world_dim, True)\n",
    "    will_map = update_value_map(entity, will_map, world_dim, max_reward_spread)\n",
    "    chris_map = np.add(chris_map, reward_mask)\n",
    "\n",
    "    \n",
    "print(\"Entities\")\n",
    "print(entities)\n",
    "\n",
    "print(\"New reward map\")\n",
    "print(will_map)\n",
    "\n",
    "print(\"Old reward map\")\n",
    "print(chris_map)\n",
    "\n",
    "# player_loc = (3,5)\n",
    "print(\"Player is at\", player_loc)\n",
    "\n",
    "chris_next_move = get_move_from_value_map(player_loc, chris_map, world_dim)\n",
    "will_next_move = get_move_from_value_map(player_loc, will_map, world_dim)\n",
    "\n",
    "world_map[player_loc[1], player_loc[0]] = -2\n",
    "\n",
    "print(\"Next move using new map:\", will_next_move)\n",
    "print(\"Next move old map:\", chris_next_move)\n",
    "\n",
    "print(world_map)"
   ]
  },
  {
   "cell_type": "code",
   "execution_count": 41,
   "metadata": {},
   "outputs": [],
   "source": [
    "import matplotlib.pyplot as plt # visualisation\n",
    "import seaborn as sns # visualisation"
   ]
  },
  {
   "cell_type": "code",
   "execution_count": 42,
   "metadata": {},
   "outputs": [
    {
     "data": {
      "image/png": "[encoded data removed]",
      "text/plain": [
       "<Figure size 864x576 with 2 Axes>"
      ]
     },
     "metadata": {
      "needs_background": "light"
     },
     "output_type": "display_data"
    }
   ],
   "source": [
    "fig, ax = plt.subplots(figsize=(12,8))\n",
    "ax = sns.heatmap(np.add(will_map, chris_map), cmap='flare_r')"
   ]
  },
  {
   "cell_type": "code",
   "execution_count": 38,
   "metadata": {},
   "outputs": [
    {
     "data": {
      "image/png": "[encoded data removed]",
      "text/plain": [
       "<Figure size 864x576 with 2 Axes>"
      ]
     },
     "metadata": {
      "needs_background": "light"
     },
     "output_type": "display_data"
    }
   ],
   "source": [
    "fig, ax = plt.subplots(figsize=(12,8))\n",
    "ax = sns.heatmap(will_map, cmap='flare_r')"
   ]
  },
  {
   "cell_type": "code",
   "execution_count": 39,
   "metadata": {},
   "outputs": [
    {
     "data": {
      "image/png": "[encoded data removed]",
      "text/plain": [
       "<Figure size 864x576 with 2 Axes>"
      ]
     },
     "metadata": {
      "needs_background": "light"
     },
     "output_type": "display_data"
    }
   ],
   "source": [
    "fig, ax = plt.subplots(figsize=(12,8))\n",
    "ax = sns.heatmap(chris_map, cmap='flare_r')"
   ]
  },
  {
   "cell_type": "code",
   "execution_count": 21,
   "metadata": {},
   "outputs": [
    {
     "data": {
      "image/png": "[encoded data removed]",
      "text/plain": [
       "<Figure size 864x576 with 2 Axes>"
      ]
     },
     "metadata": {
      "needs_background": "light"
     },
     "output_type": "display_data"
    }
   ],
   "source": [
    "fig, ax = plt.subplots(figsize=(12,8))\n",
    "ax = sns.heatmap(np.multiply(will_map, chris_map), cmap='flare_r')"
   ]
  },
  {
   "cell_type": "code",
   "execution_count": 33,
   "metadata": {},
   "outputs": [
    {
     "data": {
      "image/png": "[encoded data removed]",
      "text/plain": [
       "<Figure size 864x576 with 2 Axes>"
      ]
     },
     "metadata": {
      "needs_background": "light"
     },
     "output_type": "display_data"
    }
   ],
   "source": [
    "fig, ax = plt.subplots(figsize=(12,8))\n",
    "ax = sns.heatmap(np.add(np.multiply(will_map,0.5), np.multiply(chris_map, 0.5)), cmap='flare_r')"
   ]
  },
  {
   "cell_type": "code",
   "execution_count": 30,
   "metadata": {},
   "outputs": [
    {
     "data": {
      "image/png": "[encoded data removed]",
      "text/plain": [
       "<Figure size 864x576 with 2 Axes>"
      ]
     },
     "metadata": {
      "needs_background": "light"
     },
     "output_type": "display_data"
    }
   ],
   "source": [
    "fig, ax = plt.subplots(figsize=(12,8))\n",
    "ax = sns.heatmap(np.add(np.multiply(will_map,1.5), np.multiply(chris_map, 0.5)), cmap='flare_r')"
   ]
  },
  {
   "cell_type": "code",
   "execution_count": 93,
   "metadata": {},
   "outputs": [
    {
     "name": "stdout",
     "output_type": "stream",
     "text": [
      "current location:  (3, 6)\n",
      "new location:  (3, 5)\n",
      "current location:  (3, 6)\n",
      "new location:  (3, 7)\n",
      "Player location:  (3, 6)\n",
      "Next move using new map: up\n"
     ]
    }
   ],
   "source": [
    "player_loc = (3, 6)\n",
    "next_move = get_move_from_value_map(player_loc, np.add(will_map,chris_map), world_dim)\n",
    "print('Player location: ', player_loc)\n",
    "print(\"Next move using new map:\", next_move)"
   ]
  },
  {
   "cell_type": "code",
   "execution_count": 87,
   "metadata": {},
   "outputs": [
    {
     "data": {
      "text/plain": [
       "array([[ 0.,  0.,  0.,  0.,  0.,  0.,  0.,  0.,  0.],\n",
       "       [ 1.,  2.,  2.,  3.,  2.,  3.,  2.,  2.,  2.],\n",
       "       [ 2.,  3.,  6.,  8.,  7.,  6.,  5.,  4.,  4.],\n",
       "       [ 3.,  5.,  9., 14., 12., 10.,  8.,  7.,  4.],\n",
       "       [ 5.,  7., 11., 15., 15., 14., 12.,  8.,  5.],\n",
       "       [ 6., 10., 13., 16., 17., 18., 14., 10.,  6.],\n",
       "       [ 7., 10., 14., 17., 18., 17., 14., 10.,  6.],\n",
       "       [ 8., 11., 14., 18., 17., 16., 13., 10.,  6.],\n",
       "       [ 7., 10., 13., 14., 14., 13., 10.,  7.,  5.]])"
      ]
     },
     "execution_count": 87,
     "metadata": {},
     "output_type": "execute_result"
    }
   ],
   "source": [
    "np.add(will_map,chris_map)"
   ]
  },
  {
   "cell_type": "code",
   "execution_count": null,
   "metadata": {},
   "outputs": [],
   "source": [
    "a = 1\n",
    "\n",
    "b = a\n",
    "c = a\n",
    "\n",
    "c"
   ]
  }
 ],
 "metadata": {
  "kernelspec": {
   "display_name": "Python 3",
   "language": "python",
   "name": "python3"
  },
  "language_info": {
   "codemirror_mode": {
    "name": "ipython",
    "version": 3
   },
   "file_extension": ".py",
   "mimetype": "text/x-python",
   "name": "python",
   "nbconvert_exporter": "python",
   "pygments_lexer": "ipython3",
   "version": "3.8.2"
  }
 },
 "nbformat": 4,
 "nbformat_minor": 2
}
